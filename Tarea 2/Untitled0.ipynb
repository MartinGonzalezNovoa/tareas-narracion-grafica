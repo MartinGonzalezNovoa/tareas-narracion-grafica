{
  "nbformat": 4,
  "nbformat_minor": 0,
  "metadata": {
    "colab": {
      "provenance": []
    },
    "kernelspec": {
      "name": "python3",
      "display_name": "Python 3"
    },
    "language_info": {
      "name": "python"
    }
  },
  "cells": [
    {
      "cell_type": "code",
      "execution_count": 1,
      "metadata": {
        "colab": {
          "base_uri": "https://localhost:8080/"
        },
        "collapsed": true,
        "id": "urE2iX41Th57",
        "outputId": "6eb30241-daa0-4ae7-d7e5-c6f45134e225"
      },
      "outputs": [
        {
          "output_type": "stream",
          "name": "stdout",
          "text": [
            "1\n",
            "2\n",
            "3\n",
            "4\n",
            "5\n",
            "6\n",
            "7\n",
            "8\n",
            "9\n",
            "10\n",
            "11\n",
            "12\n",
            "13\n",
            "14\n",
            "15\n",
            "16\n",
            "17\n",
            "18\n",
            "19\n",
            "20\n",
            "21\n",
            "22\n",
            "23\n",
            "24\n",
            "25\n",
            "26\n",
            "27\n",
            "28\n",
            "29\n",
            "30\n",
            "31\n",
            "32\n",
            "33\n",
            "34\n",
            "35\n",
            "36\n",
            "37\n",
            "38\n",
            "39\n",
            "40\n",
            "41\n",
            "42\n",
            "43\n",
            "44\n",
            "45\n",
            "46\n",
            "47\n",
            "48\n",
            "49\n",
            "50\n",
            "51\n",
            "52\n",
            "53\n",
            "54\n",
            "55\n",
            "56\n",
            "57\n",
            "58\n",
            "59\n",
            "60\n",
            "61\n",
            "62\n",
            "63\n",
            "64\n",
            "65\n",
            "66\n",
            "67\n",
            "68\n",
            "69\n",
            "70\n",
            "71\n",
            "72\n",
            "73\n",
            "74\n",
            "75\n",
            "76\n",
            "77\n",
            "78\n",
            "79\n",
            "80\n",
            "81\n",
            "82\n",
            "83\n",
            "84\n",
            "85\n",
            "86\n",
            "87\n",
            "88\n",
            "89\n",
            "90\n",
            "91\n",
            "92\n",
            "93\n",
            "94\n",
            "95\n",
            "96\n",
            "97\n",
            "98\n",
            "99\n",
            "100\n"
          ]
        }
      ],
      "source": [
        "# Problema 1: Imprimir los números del 1 al 100\n",
        "\n",
        "for i in range(1, 101):\n",
        "    print(i)\n"
      ]
    },
    {
      "cell_type": "code",
      "source": [
        "for i in range(1,101):\n",
        "  if i % 3 == 0:\n",
        "    print(i)"
      ],
      "metadata": {
        "colab": {
          "base_uri": "https://localhost:8080/"
        },
        "collapsed": true,
        "id": "eJCJPpGpT_n_",
        "outputId": "35b5049e-d3c2-46b8-d8f3-3f804fd8b1f7"
      },
      "execution_count": 2,
      "outputs": [
        {
          "output_type": "stream",
          "name": "stdout",
          "text": [
            "3\n",
            "6\n",
            "9\n",
            "12\n",
            "15\n",
            "18\n",
            "21\n",
            "24\n",
            "27\n",
            "30\n",
            "33\n",
            "36\n",
            "39\n",
            "42\n",
            "45\n",
            "48\n",
            "51\n",
            "54\n",
            "57\n",
            "60\n",
            "63\n",
            "66\n",
            "69\n",
            "72\n",
            "75\n",
            "78\n",
            "81\n",
            "84\n",
            "87\n",
            "90\n",
            "93\n",
            "96\n",
            "99\n"
          ]
        }
      ]
    },
    {
      "cell_type": "code",
      "source": [
        "def sumar_y_comparar():\n",
        "    # Pedir al usuario que ingrese dos números\n",
        "    num1 = float(input(\"Ingrese el primer número: \"))\n",
        "    num2 = float(input(\"Ingrese el segundo número: \"))\n",
        "\n",
        "    # Calcular la suma\n",
        "    suma = num1 + num2\n",
        "\n",
        "    # Comparar el resultado y mostrar el mensaje correspondiente\n",
        "    if suma < 100:\n",
        "        print(\"El resultado es menor a 100\")\n",
        "    elif 100 <= suma < 150:\n",
        "        print(\"El resultado es mayor a 100\")\n",
        "    else:\n",
        "        print(\"El resultado es mayor a 150\")\n",
        "\n",
        "# Llamar a la función\n",
        "sumar_y_comparar()\n"
      ],
      "metadata": {
        "colab": {
          "base_uri": "https://localhost:8080/"
        },
        "id": "QYwpklYfiMVq",
        "outputId": "7824aeed-8db4-4238-a458-d6690a8c7692"
      },
      "execution_count": 73,
      "outputs": [
        {
          "output_type": "stream",
          "name": "stdout",
          "text": [
            "Ingrese el primer número: 100\n",
            "Ingrese el segundo número: 50\n",
            "El resultado es mayor a 150\n"
          ]
        }
      ]
    },
    {
      "cell_type": "code",
      "source": [
        "def evaluar_usuario():\n",
        "    # Solicitar edad al usuario\n",
        "    edad = int(input(\"Ingrese su edad: \"))\n",
        "\n",
        "    # Solicitar si le gusta jugar de delantero\n",
        "    le_gusta_delantero = input(\"¿Te gusta jugar de delantero? (sí/no): \").strip().lower()\n",
        "\n",
        "    # Condiciones para evaluar la edad y el interés en jugar de delantero\n",
        "    if edad > 16:\n",
        "        if le_gusta_delantero == \"sí\":\n",
        "            print(\"¡Eres mayor de 16 y te gusta jugar de delantero! ¡Perfecto para un ataque dinámico!\")\n",
        "        elif le_gusta_delantero == \"no\":\n",
        "            print(\"Eres mayor de 16, pero no te gusta jugar de delantero. ¡Quizás prefieres otra posición!\")\n",
        "        else:\n",
        "            print(\"Respuesta no válida sobre jugar de delantero.\")\n",
        "    else:\n",
        "        if le_gusta_delantero == \"sí\":\n",
        "            print(\"Eres menor de 16, pero te gusta jugar de delantero. ¡Sigue practicando, tienes un gran futuro!\")\n",
        "        elif le_gusta_delantero == \"no\":\n",
        "            print(\"Eres menor de 16 y no te gusta jugar de delantero. Está bien, hay muchas otras posiciones para explorar.\")\n",
        "        else:\n",
        "            print(\"Respuesta no válida sobre jugar de delantero.\")\n",
        "\n",
        "# Llamar a la función\n",
        "evaluar_usuario()\n"
      ],
      "metadata": {
        "colab": {
          "base_uri": "https://localhost:8080/"
        },
        "id": "9jeo06OFgmpA",
        "outputId": "12e77f65-1c9b-4fed-f959-26d20fcfeaa6"
      },
      "execution_count": 58,
      "outputs": [
        {
          "output_type": "stream",
          "name": "stdout",
          "text": [
            "Ingrese su edad: 15\n",
            "¿Te gusta jugar de delantero? (sí/no): no\n",
            "Eres menor de 16 y no te gusta jugar de delantero. Está bien, hay muchas otras posiciones para explorar.\n"
          ]
        }
      ]
    }
  ]
}